{
 "cells": [
  {
   "cell_type": "code",
   "execution_count": null,
   "id": "51695f13-1a15-4493-b918-bdbd902c61e6",
   "metadata": {},
   "outputs": [],
   "source": [
    "# Data Science Tools and Ecosystem\n"
   ]
  },
  {
   "cell_type": "code",
   "execution_count": null,
   "id": "e06bd05c-1465-46da-af2c-655d02980459",
   "metadata": {},
   "outputs": [],
   "source": [
    "### Introduction\n",
    "\n",
    "In this notebook, we aim to provide an insightful exploration of the Data Science Tools and \n",
    "Ecosystem, offering a comprehensive overview of the essential tools, techniques, and \n",
    "methodologies crucial for effective data analysis, modeling, and interpretation."
   ]
  },
  {
   "cell_type": "code",
   "execution_count": null,
   "id": "8c9ec4ef-d031-401b-969c-57dd173d5cdf",
   "metadata": {},
   "outputs": [],
   "source": [
    "### __Objectives:__\n",
    "\n",
    "- List popular languages for Data Science.\n",
    "- Explore common data science libraries.\n",
    "- Introduce arithmetic expression examples.\n",
    "- Demonstrate conversion of minutes to hours."
   ]
  },
  {
   "cell_type": "code",
   "execution_count": null,
   "id": "162a0031-c577-4078-93bf-61b25abbb35f",
   "metadata": {},
   "outputs": [],
   "source": [
    "### Popular Data Science Languages\n",
    "\n",
    "Some of the popular languages that Data Scientists use are:\n",
    "\n",
    "1. Python\n",
    "2. R\n",
    "3. SQL"
   ]
  },
  {
   "cell_type": "markdown",
   "id": "07f46869-b637-4b4c-9b7a-7848e572b50b",
   "metadata": {},
   "source": [
    "### Commonly Used Data Science Libraries\n",
    "\n",
    "Some of the commonly used libraries used by Data Scientists include:\n",
    "\n",
    "1. Pandas\n",
    "2. Fumy\n",
    "3. Scipio-learn"
   ]
  },
  {
   "cell_type": "code",
   "execution_count": null,
   "id": "34ad6564-d5bf-4ddc-9bed-0163645cddda",
   "metadata": {},
   "outputs": [],
   "source": [
    "### Data Science Tools\n",
    "\n",
    "| Data Science Tools |\n",
    "|--------------------|\n",
    "| Jupyter Notebook   |\n",
    "| RStudio            |\n",
    "| VS Code with Python extension |"
   ]
  },
  {
   "cell_type": "code",
   "execution_count": null,
   "id": "a1e14886-4fd7-4b1a-acbe-cd42d86160ea",
   "metadata": {},
   "outputs": [],
   "source": [
    "### Arithmetic Expression Examples\n",
    "\n",
    "In this section, we'll explore various arithmetic expressions commonly used in mathematics and programming.\n",
    "\n",
    "For instance, we can consider expressions such as:\n",
    "\n",
    "- Addition: `2 + 3`\n",
    "- Subtraction: `5 - 2`\n",
    "- Multiplication: `4 * 6`\n",
    "- Division: `10 / 2`"
   ]
  },
  {
   "cell_type": "code",
   "execution_count": 1,
   "id": "56eb8a18-73ea-46a2-8c60-3b7edf22ebdf",
   "metadata": {
    "tags": []
   },
   "outputs": [
    {
     "name": "stdout",
     "output_type": "stream",
     "text": [
      "17\n"
     ]
    }
   ],
   "source": [
    "# This is a simple arithmetic expression to multiply then add integers.\n",
    "result = (3 * 4) + 5\n",
    "print(result)"
   ]
  },
  {
   "cell_type": "code",
   "execution_count": 2,
   "id": "781d9b71-4196-4376-8ba4-47c27e346e65",
   "metadata": {
    "tags": []
   },
   "outputs": [
    {
     "data": {
      "text/plain": [
       "3.3333333333333335"
      ]
     },
     "execution_count": 2,
     "metadata": {},
     "output_type": "execute_result"
    }
   ],
   "source": [
    "# This will convert 200 minutes to hours by dividing by 60.\n",
    "minutes = 200\n",
    "hours = minutes / 60\n",
    "hours"
   ]
  },
  {
   "cell_type": "code",
   "execution_count": null,
   "id": "375a23a4-ac27-43d4-9f4a-ff4904a4d570",
   "metadata": {},
   "outputs": [],
   "source": [
    "## Author\n",
    "\n",
    "Raphael Musyimi Mung'atha"
   ]
  }
 ],
 "metadata": {
  "kernelspec": {
   "display_name": "Python",
   "language": "python",
   "name": "conda-env-python-py"
  },
  "language_info": {
   "codemirror_mode": {
    "name": "ipython",
    "version": 3
   },
   "file_extension": ".py",
   "mimetype": "text/x-python",
   "name": "python",
   "nbconvert_exporter": "python",
   "pygments_lexer": "ipython3",
   "version": "3.7.12"
  }
 },
 "nbformat": 4,
 "nbformat_minor": 5
}
